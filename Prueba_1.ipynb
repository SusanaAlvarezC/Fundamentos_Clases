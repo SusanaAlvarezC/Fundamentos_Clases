{
  "nbformat": 4,
  "nbformat_minor": 0,
  "metadata": {
    "colab": {
      "provenance": [],
      "include_colab_link": true
    },
    "kernelspec": {
      "name": "python3",
      "display_name": "Python 3"
    },
    "language_info": {
      "name": "python"
    }
  },
  "cells": [
    {
      "cell_type": "markdown",
      "metadata": {
        "id": "view-in-github",
        "colab_type": "text"
      },
      "source": [
        "<a href=\"https://colab.research.google.com/github/SusanaAlvarezC/Fundamentos_Clases/blob/main/Prueba_1.ipynb\" target=\"_parent\"><img src=\"https://colab.research.google.com/assets/colab-badge.svg\" alt=\"Open In Colab\"/></a>"
      ]
    },
    {
      "cell_type": "markdown",
      "source": [
        "# **Estudiantes**:\n",
        "\n",
        "*  ## Alejandro Martínez Hernández | alemaher12@gmail.com\n",
        "*  ## Daniel Marín Vélez           | daniel.marinv@udea.edu.co\n",
        "*  ## Susana Álvarez               | susanamalc@gmail.com  \n",
        "\n",
        "   \n",
        "### ***Nota para el profesor:***\n",
        "\n",
        "**↤ ↤** Puede usar el navegador a la izquierda **↤ ↤**"
      ],
      "metadata": {
        "id": "H5n0m1wFknSY"
      }
    },
    {
      "cell_type": "markdown",
      "metadata": {
        "id": "7vGMRorix7fJ"
      },
      "source": [
        "# **Prueba \\#1**\n",
        "\n",
        "\n"
      ]
    },
    {
      "cell_type": "markdown",
      "metadata": {
        "id": "2JiTz8I9yhXB"
      },
      "source": [
        "## **Ejercicio 1** (50 pts)\n",
        "\n",
        "Escriba una clase `Pedido` que pueda ser usada para gestionar la información de los pedidos realizados a una pastelería (o carnicería o tienda de ropa o empresa que ud desee). Evite usar módulos como numpy, pandas o cualquier otro.\n",
        "\n",
        "### **Rubrica**:\n",
        "\n",
        "1. Generación de la clase que funcione correctamente con al menos 2 métodos y 2 atributos. **30 pts**.\n",
        "2. Comentarios y  documentación que sirva para quien deba usar la clase. **5 pts**.\n",
        "3. Pertinencia de la clase en el ámbito, ¿Por qué será útil esta herramienta y cómo ayudará a mejorar el negocio? esta será entregada en una celda de texto. **10 pts**.\n",
        "4. ¿Cree que se pueda construir una clase hija que ayude al proceso? Si sí constrúyala, sino, argumente por qué en una célda de código. **5 pts**."
      ]
    },
    {
      "cell_type": "markdown",
      "source": [
        "### **1.1. Código**\n",
        "\n",
        "\n"
      ],
      "metadata": {
        "id": "H_pH3Sg7mNWO"
      }
    },
    {
      "cell_type": "code",
      "source": [
        "from datetime import date\n",
        "\n",
        "\n",
        "class Pedido():\n",
        "  \"\"\"\n",
        "    La clase Pedido permite gestionar la información de los pedidos o\n",
        "    reservas realizadas en un hotel.\n",
        "\n",
        "    Atributos:\n",
        "        guest (int): Número de huéspedes o cantidad de productos en el\n",
        "            pedido.\n",
        "        season (str): Temporada del pedido puede tomar alguno de los\n",
        "            siguientes valores: alta, media o baja.\n",
        "        fini (date): Fecha de inicio del pedido.\n",
        "        ffin (date): Fecha de fin del pedido.\n",
        "        night_value (int): Valor por noche.\n",
        "\n",
        "    Métodos:\n",
        "        calcula_noches(): Calcula el número de noches de la reserva.\n",
        "        calcula_precio(): Calcula el precio total de la reserva según la\n",
        "            temporada y las noches de estadia.\n",
        "    \"\"\"\n",
        "\n",
        "  # Constructor de la clase pedido donde se definen los atributos\n",
        "  # que definen un objeto tipo reserva\n",
        "  def __init__(self, guest: int, season: str, fini: date, ffin: date,\n",
        "               night_value: int):\n",
        "        self.info = {\n",
        "            \"Numero de huespedes\": guest,\n",
        "            \"Temporada\": season,\n",
        "            \"Fecha inicio\": fini,\n",
        "            \"Fecha fin\": ffin\n",
        "        }\n",
        "        self.night_value = night_value\n",
        "\n",
        "  # Definición del método calcula_noches, donde se realiza la diferencia\n",
        "  # de dias entre la Fecha Fin y Fecha inicio utilizando la libreria\n",
        "  # datetime\n",
        "  def calcula_noches(self):\n",
        "    return (self.info['Fecha fin'] - self.info['Fecha inicio']).days\n",
        "\n",
        "  # Definición del método calcula_precio, donde se calcula el precio\n",
        "  # de total a pagar segun la temporada y número de noches de estadia.\n",
        "  def calcula_precio(self):\n",
        "    nights = self.calcula_noches()\n",
        "    if self.info['Temporada'] == 'alta':\n",
        "      return self.night_value * nights\n",
        "    elif self.info['Temporada'] == 'media':\n",
        "      return (self.night_value // 2) * nights\n",
        "    elif self.info['Temporada'] == 'baja':\n",
        "      return (self.night_value // 3) * nights\n",
        "\n",
        "\n",
        "class Descuento(Pedido):\n",
        "  \"\"\"\n",
        "    La clase Descuento es una clase hija de Pedido que permite aplicar\n",
        "    un descuento adicional al precio del pedido.\n",
        "\n",
        "    Atributos:\n",
        "        descuento (float): Porcentaje de descuento a aplicar\n",
        "\n",
        "    Métodos:\n",
        "        calcula_precio_con_descuento(): Calcula el precio total del\n",
        "        pedido con el descuento aplicado.\n",
        "  \"\"\"\n",
        "  # Constructor de la clase descuento\n",
        "  def __init__(self, guest: int, season: str, fini: date, ffin: date,\n",
        "               night_value: int, descuento: float):\n",
        "    super().__init__(guest, season, fini, ffin, night_value)\n",
        "    self.descuento = descuento\n",
        "\n",
        "# Definición del método calcula_precio_con_descuento, toma como\n",
        "# parámetro de entrada el valor del descuento y lo aplica al precio\n",
        "# final\n",
        "  def calcula_precio_con_descuento(self) -> int:\n",
        "    descuento = (super().calcula_precio() - super().calcula_precio()\n",
        "                 * (self.descuento / 100))\n",
        "    return descuento\n",
        "\n",
        "\n",
        "# Instanciando la clase Pedido a traves del objeto reserva 1\n",
        "reserva1 = Pedido(2, 'alta', date(2023, 8, 8), date(2023, 8, 10), 100)\n",
        "\n",
        "# Imprimiendo información de la clase pedido\n",
        "print(reserva1.info)\n",
        "\n",
        "# Imprimiendo información del resultado del método calcula_noches para\n",
        "# el objeto reserva1\n",
        "print(f'Número de noches: {reserva1.calcula_noches()}')\n",
        "\n",
        "# Imprimiendo información del valor a pagar para el objeto reserva1\n",
        "print(f'Valor a pagar:{reserva1.calcula_precio()}')\n",
        "\n",
        "# Instanciando la clase Descuento a traves del objeto\n",
        "# reserva_con_descuento\n",
        "reserva_con_descuento = (Descuento(2, 'alta', date(2023, 8, 8),\n",
        "                                   date(2023, 8, 10), 100,10))\n",
        "print(f'Valor a pagar con descuento:'\n",
        "      f'{reserva_con_descuento.calcula_precio_con_descuento()}')"
      ],
      "metadata": {
        "colab": {
          "base_uri": "https://localhost:8080/"
        },
        "id": "k1mAYfMkMXUB",
        "outputId": "4bd20247-a20f-4519-bda6-7bab5667adeb"
      },
      "execution_count": null,
      "outputs": [
        {
          "output_type": "stream",
          "name": "stdout",
          "text": [
            "{'Numero de huespedes': 2, 'Temporada': 'alta', 'Fecha inicio': datetime.date(2023, 8, 8), 'Fecha fin': datetime.date(2023, 8, 10)}\n",
            "Número de noches: 2\n",
            "Valor a pagar:200\n",
            "Valor a pagar con descuento:180.0\n"
          ]
        }
      ]
    },
    {
      "cell_type": "markdown",
      "source": [
        "### **1.2. Documentación**\n",
        "\n",
        "Para una mayor comprensión de la estructura de la clase y los métodos disponibles, se puede consultar la documentación proporcionada en el siguiente código:"
      ],
      "metadata": {
        "id": "1o4KYi6in_bU"
      }
    },
    {
      "cell_type": "code",
      "source": [
        "# Consultar la documentación de la clase Pedido y sus métodos\n",
        "help(Pedido)\n",
        "\n",
        "# Consultar la documentación de la clase Descuento y sus métodos\n",
        "help(Descuento)"
      ],
      "metadata": {
        "colab": {
          "base_uri": "https://localhost:8080/"
        },
        "id": "EQXoZdx5aK9J",
        "outputId": "489abb47-7974-4d8e-9ffc-14b5ce4d5f71"
      },
      "execution_count": null,
      "outputs": [
        {
          "output_type": "stream",
          "name": "stdout",
          "text": [
            "Help on class Pedido in module __main__:\n",
            "\n",
            "class Pedido(builtins.object)\n",
            " |  Pedido(guest: int, season: str, fini: datetime.date, ffin: datetime.date, night_value: int)\n",
            " |  \n",
            " |  La clase Pedido permite gestionar la información de los pedidos o reservas \n",
            " |  realizadas en un hotel.\n",
            " |  \n",
            " |  Atributos:\n",
            " |      guest (int): Número de huéspedes o cantidad de productos en el pedido.\n",
            " |      season (str): Temporada del pedido puede tomar alguno de los siguientes \n",
            " |          valores: alta, media o baja.\n",
            " |      fini (date): Fecha de inicio del pedido.\n",
            " |      ffin (date): Fecha de fin del pedido.\n",
            " |      night_value (int): Valor por noche.\n",
            " |  \n",
            " |  Métodos:\n",
            " |      calcula_noches(): Calcula el número de noches de la reserva.\n",
            " |      calcula_precio(): Calcula el precio total de la reserva según la \n",
            " |          temporada y las noches de estadia.\n",
            " |  \n",
            " |  Methods defined here:\n",
            " |  \n",
            " |  __init__(self, guest: int, season: str, fini: datetime.date, ffin: datetime.date, night_value: int)\n",
            " |      Initialize self.  See help(type(self)) for accurate signature.\n",
            " |  \n",
            " |  calcula_noches(self)\n",
            " |      # Definición del método calcula_noches, donde se realiza la diferencia de \n",
            " |      # dias entre la Fecha Fin y Fecha inicio utilizando la libreria datetime\n",
            " |  \n",
            " |  calcula_precio(self)\n",
            " |      # Definición del método calcula_precio, donde se calcula el precio de total a\n",
            " |      # pagar segun la temporada y número de noches de estadia.\n",
            " |  \n",
            " |  ----------------------------------------------------------------------\n",
            " |  Data descriptors defined here:\n",
            " |  \n",
            " |  __dict__\n",
            " |      dictionary for instance variables (if defined)\n",
            " |  \n",
            " |  __weakref__\n",
            " |      list of weak references to the object (if defined)\n",
            "\n",
            "Help on class Descuento in module __main__:\n",
            "\n",
            "class Descuento(Pedido)\n",
            " |  Descuento(guest: int, season: str, fini: datetime.date, ffin: datetime.date, night_value: int, descuento: float)\n",
            " |  \n",
            " |  La clase Descuento es una clase hija de Pedido que permite aplicar un \n",
            " |  descuento adicional al precio del pedido.\n",
            " |  \n",
            " |  Atributos:\n",
            " |      descuento (float): Porcentaje de descuento a aplicar\n",
            " |  \n",
            " |  Métodos:\n",
            " |      calcula_precio_con_descuento(): Calcula el precio total del pedido con\n",
            " |      el descuento aplicado.\n",
            " |  \n",
            " |  Method resolution order:\n",
            " |      Descuento\n",
            " |      Pedido\n",
            " |      builtins.object\n",
            " |  \n",
            " |  Methods defined here:\n",
            " |  \n",
            " |  __init__(self, guest: int, season: str, fini: datetime.date, ffin: datetime.date, night_value: int, descuento: float)\n",
            " |      Initialize self.  See help(type(self)) for accurate signature.\n",
            " |  \n",
            " |  calcula_precio_con_descuento(self) -> int\n",
            " |  \n",
            " |  ----------------------------------------------------------------------\n",
            " |  Methods inherited from Pedido:\n",
            " |  \n",
            " |  calcula_noches(self)\n",
            " |      # Definición del método calcula_noches, donde se realiza la diferencia de \n",
            " |      # dias entre la Fecha Fin y Fecha inicio utilizando la libreria datetime\n",
            " |  \n",
            " |  calcula_precio(self)\n",
            " |      # Definición del método calcula_precio, donde se calcula el precio de total a\n",
            " |      # pagar segun la temporada y número de noches de estadia.\n",
            " |  \n",
            " |  ----------------------------------------------------------------------\n",
            " |  Data descriptors inherited from Pedido:\n",
            " |  \n",
            " |  __dict__\n",
            " |      dictionary for instance variables (if defined)\n",
            " |  \n",
            " |  __weakref__\n",
            " |      list of weak references to the object (if defined)\n",
            "\n"
          ]
        }
      ]
    },
    {
      "cell_type": "markdown",
      "source": [
        "### **1.3. Pertinencia de la clase en el ámbito:**\n",
        "\n",
        "A través de la clase Pedido, el hotel podrá mejorar sus tiempos de respuesta en cuanto al cálculo del valor total a pagar teniendo en cuenta la temporada y el número de noches por estancia. Esto permitirá la automatización de un proceso que podría generar errores al realizarlo manualmente. Además, se cuenta con el almacenamiento de la información de cada reserva, lo que facilita la consulta para la toma de decisiones y la mejora del servicio al cliente.\n",
        "\n"
      ],
      "metadata": {
        "id": "tL3m08CnL7_Q"
      }
    },
    {
      "cell_type": "markdown",
      "source": [
        "### **1.4. Clase hija:**\n",
        "\n",
        "La flexibilidad del programa a través de su clase hija Descuento permite la aplicación de ciertas promociones cuando se requiera. Esta clase hija permite aplicar descuentos adicionales al precio base, lo que puede ser útil para ofrecer promociones especiales a clientes frecuentes o en determinadas épocas del año."
      ],
      "metadata": {
        "id": "KV_MNfm_mo-S"
      }
    },
    {
      "cell_type": "markdown",
      "metadata": {
        "id": "pnfosm2l12c5"
      },
      "source": [
        "## **Ejercicio 2** (50 pts)\n",
        "\n",
        "Realice los siguientes ejercicios con numpy\n",
        "\n",
        "1. Resolver el siguiente sistema de ecuaciones. **16 pts**\n",
        "\n",
        "$$\n",
        "2x + 3y - z + 4w + 5v = 15\n",
        "$$\n",
        "\n",
        "$$\n",
        "x - 2y + 4z - 3w + v = 6\n",
        "$$\n",
        "\n",
        "$$\n",
        "3x + 2y - 3z + 5w - 2v = 11\n",
        "$$\n",
        "\n",
        "$$\n",
        "4x + y - 2z + 3w + 2v = 8\n",
        "$$\n",
        "\n",
        "$$\n",
        "x + y + z + w + v = 7\n",
        "$$\n",
        "\n",
        "2. Calcule el valor del número de Euler o constante de Napier $e = 2,71828$ como:\n",
        "\n",
        "$$e = \\sum_i ^{\\infty} \\frac{1}{n!}$$\n",
        "\n",
        "  ¿Qué precisión en términos de el número de términos necesita para dar cuenta de los primeros 5 números de la coma decimal? **18 pts**\n",
        "\n",
        "3. Escriba el polinomio característico de la matriz en una celda de texto, déje registrado en una de código cómo obtuvo los valores característicos.  **16 pts**\n",
        "\n",
        "$$\n",
        "\\begin{pmatrix}\n",
        "2 & 1 & 1 \\\\\n",
        "4 & 3 & 2 \\\\\n",
        "1 & 1 & 2 \\\\\n",
        "\\end{pmatrix}\n",
        "$$\n",
        "\n"
      ]
    },
    {
      "cell_type": "markdown",
      "source": [
        "### **2.1. Solución al sistema de ecuaciones**"
      ],
      "metadata": {
        "id": "goQ7ZNBVor-g"
      }
    },
    {
      "cell_type": "code",
      "source": [
        "import numpy as np\n",
        "\n",
        "# Se definen los valores de los coeficientes de cada una de las\n",
        "# ecuaciones = a\n",
        "a = np.matrix ([\n",
        "            [2, 3,-1, 4, 5],\n",
        "            [1,-2, 4,-3, 1],\n",
        "            [3, 2,-3, 5,-2],\n",
        "            [4, 1,-2, 3, 2],\n",
        "            [1, 1, 1, 1, 1]\n",
        "            ])\n",
        "\n",
        "'''\n",
        "np.matrix: Devuelve una matriz de un objeto similar a una matriz o de\n",
        "una cadena de datos. Una matriz es una matriz bidimensional\n",
        "especializada que conserva su naturaleza bidimensional a través de\n",
        "operaciones.\n",
        "\n",
        "Tomado de:\n",
        "https://numpy.org/doc/stable/reference/generated/numpy.matrix.html\n",
        "el 6 de agosto de 2023\n",
        "'''\n",
        "\n",
        "# Se define la igualdad de cada sistema de ecuaciones = b\n",
        "b = np.matrix([\n",
        "            [15],\n",
        "            [ 6],\n",
        "            [11],\n",
        "            [ 8],\n",
        "            [ 7]\n",
        "            ])\n",
        "\n",
        "# Se calcula el valor de x con x=inv(a)*b\n",
        "c = (a**-1) * b\n",
        "\n",
        "'''\n",
        "Este sistema de ecuaciones se pueden representar como un sistema de\n",
        "Matrices como A*x=B, donde si se desea resolver la matríz x se aplica\n",
        "la inversa de A, x = inv(A)*B.\n",
        "'''\n",
        "matriz = np.array(c)\n",
        "\n",
        "print(f'''\n",
        "El resultado para cada variable después de resolver el sistema de\n",
        "ecuaciones es:\n",
        "\n",
        "    x = {matriz[0][0]:.2f}\n",
        "    y = {matriz[1][0]:.2f}\n",
        "    z = {matriz[2][0]:.2f}\n",
        "    w = {matriz[3][0]:.2f}\n",
        "    v = {matriz[4][0]:.2f}\n",
        "\n",
        "Para verificar el resultado obtenido, entonces, se calcula el producto\n",
        "entre los coeficientes del sistema de ecuaciones y los valores de cada\n",
        "variable y debe cumplir con la igualdad planteada para cada ecuación.\n",
        "\n",
        "Sabiendo que c = (a**-1) * b, entonces:\n",
        "\n",
        "a*c =\n",
        "{a*c}\n",
        "      ''')"
      ],
      "metadata": {
        "colab": {
          "base_uri": "https://localhost:8080/"
        },
        "id": "MOv5BGNhPqTW",
        "outputId": "d5f982a0-fb37-44bb-c1b7-ed36e850984b"
      },
      "execution_count": null,
      "outputs": [
        {
          "output_type": "stream",
          "name": "stdout",
          "text": [
            "\n",
            "El resultado para cada variable después de resolver el sistema de\n",
            "ecuaciones es:\n",
            "\n",
            "    x = -1.68\n",
            "    y = -7.87\n",
            "    z = 5.13\n",
            "    w = 10.00\n",
            "    v = 1.42\n",
            "\n",
            "Para verificar el resultado obtenido, entonces, se calcula el producto\n",
            "entre los coeficientes del sistema de ecuaciones y los valores de cada\n",
            "variable y debe cumplir con la igualdad planteada para cada ecuación.\n",
            "\n",
            "Sabiendo que c = (a**-1) * b, entonces:\n",
            "\n",
            "a*c = \n",
            "[[15.]\n",
            " [ 6.]\n",
            " [11.]\n",
            " [ 8.]\n",
            " [ 7.]]\n",
            "      \n"
          ]
        }
      ]
    },
    {
      "cell_type": "markdown",
      "source": [
        "### **2.2. Cálculo del número de Euler**\n",
        "\n",
        "Sin hacer uso de redondeo, para dar cuenta de los primeros 5 números de la coma decimal, es decir 2.71828, **el número de terminos a evaluar debe ser mayor a 10**"
      ],
      "metadata": {
        "id": "KDA4WwVyodSi"
      }
    },
    {
      "cell_type": "code",
      "source": [
        "# Importamos las librerías necesarias\n",
        "# Para scipy solo importamos la función a usar para ahorrar memoria\n",
        "import numpy as np\n",
        "from scipy import special\n",
        "\n",
        "\n",
        "def euler_aprox(i):\n",
        "    '''\n",
        "    Función recibe 1 valor entero y retorna\n",
        "    un valor aproximado al número de euler\n",
        "    a través de la sumatoria n=0 hasta i de\n",
        "    1/(n!)\n",
        "\n",
        "\n",
        "    Ex:\n",
        "        In[0] = x = euler(10)\n",
        "        Out[0] = El valor aproximado de Euler es: 2.718281525573192\n",
        "    '''\n",
        "\n",
        "    n = np.arange(i)\n",
        "    value = np.sum(1/special.factorial(n)) # Valor aproximado de euler\n",
        "\n",
        "    return value\n",
        "\n",
        "\n",
        "print('''Para dar cuenta de los primeros 5 números de la coma decimal,\n",
        "es necesario que el número de terminos a evaluar sea mayor a 10\n",
        "(valor predeterminado).\n",
        "      ''')\n",
        "\n",
        "# Se tiene 10 como el número de terminos a evaluar predeterminado\n",
        "num_terms = int(\n",
        "    input('Introduzca el número de terminos a evaluar: ') or '10')\n",
        "\n",
        "print(f'El valor aproximado de Euler es: {euler_aprox(num_terms)}')"
      ],
      "metadata": {
        "colab": {
          "base_uri": "https://localhost:8080/"
        },
        "id": "BRraLux_pkOe",
        "outputId": "b90e44ae-ab25-404d-c3d1-b096459659ea"
      },
      "execution_count": null,
      "outputs": [
        {
          "output_type": "stream",
          "name": "stdout",
          "text": [
            "Para dar cuenta de los primeros 5 números de la coma decimal,\n",
            "es necesario que el número de terminos a evaluar sea mayor a 10\n",
            "(valor predeterminado).\n",
            "      \n",
            "Introduzca el número de terminos a evaluar: 10\n",
            "El valor aproximado de Euler es: 2.718281525573192\n"
          ]
        }
      ]
    },
    {
      "cell_type": "markdown",
      "source": [
        "### **2.3. Polinomio característico**"
      ],
      "metadata": {
        "id": "QQZUsyzapJMZ"
      }
    },
    {
      "cell_type": "code",
      "source": [
        "import numpy as np\n",
        "from IPython.display import display, Math\n",
        "\n",
        "# Se transcribe la matriz para la cual se desea obtener el polinomio\n",
        "# característico. La matriz debe ser n X n\n",
        "x=([\n",
        "    [2,1,1],\n",
        "    [4,3,2],\n",
        "    [1,1,2]\n",
        "    ])\n",
        "\n",
        "# Para calcular los coeficientes de las variables del polinomio }\n",
        "#característico se empleó la función np.poly\n",
        "coef_caracteristicos = np.poly(x)\n",
        "print(\n",
        "    f'Coeficientes del Polinomio característico: {coef_caracteristicos}'\n",
        "    )"
      ],
      "metadata": {
        "colab": {
          "base_uri": "https://localhost:8080/"
        },
        "id": "R9QXuwO9FYJX",
        "outputId": "a0060065-27fa-4ac2-b8be-dc822db61d14"
      },
      "execution_count": null,
      "outputs": [
        {
          "output_type": "stream",
          "name": "stdout",
          "text": [
            "Coeficientes del Polinomio característico: [ 1. -7.  9. -3.]\n"
          ]
        }
      ]
    },
    {
      "cell_type": "markdown",
      "source": [
        "#### **Ecuación**\n",
        "\n",
        "Sabemos que np.poly devuelve los coeficientes del polinomio de un arreglo de tamaño N o (N,N), cuyo orden corresponderá a la siguiente forma:\n",
        "\n",
        "$$c[0] * x^N + c[1] * x^{N-1} + ... + c[N-1] * x + c[N]$$\n",
        "\n",
        "$$con: c[0] = 1$$\n",
        "\n",
        "Tomado de: [Documentación de Numpy](https://numpy.org/doc/stable/reference/generated/numpy.poly.html) el 6 de agosto de 2023.\n",
        "\n",
        "Por lo anterior se puede inferir que los coeficientes del polinomio característico hacen referencia a la siguiente ecuación:\n",
        "\n",
        "# **$$x³- 7x² + 9x - 3 = 0$$**\n",
        "\n",
        "Sin embargo, a modo de ejercicio, dejamos una versión alternativa del código donde se imprime la ecuación deseada usando **np.polyd1**:"
      ],
      "metadata": {
        "id": "wiZ4gAw_9djq"
      }
    },
    {
      "cell_type": "markdown",
      "source": [
        "### **2.3. Solución Alternativa: Polinomio característico**"
      ],
      "metadata": {
        "id": "jbwoesMUHfan"
      }
    },
    {
      "cell_type": "code",
      "source": [
        "import numpy as np\n",
        "from IPython.display import display, Math\n",
        "\n",
        "# Se transcribe la matriz para la cual se desea obtener el polinomio\n",
        "# característico. La matriz debe ser n X n\n",
        "x=([\n",
        "    [2,1,1],\n",
        "    [4,3,2],\n",
        "    [1,1,2]\n",
        "    ])\n",
        "\n",
        "# Para calcular los coeficientes de las variables del polinomio }\n",
        "#característico se empleó la función np.poly\n",
        "coef_caracteristicos = np.poly(x)\n",
        "print(\n",
        "    f'Coeficientes del Polinomio característico: {coef_caracteristicos}'\n",
        "    )\n",
        "\n",
        "# polyd1 toma un arreglo de coeficientes caracteríticos y entrega una\n",
        "# ecuación que puede ser impresa.\n",
        "print(f'''El polinomio característico es: \\n\n",
        "{np.poly1d(coef_caracteristicos)}\n",
        "      ''')\n"
      ],
      "metadata": {
        "colab": {
          "base_uri": "https://localhost:8080/"
        },
        "outputId": "bed27374-3020-4c31-e438-28d2dee85653",
        "id": "-PfemKULIFrY"
      },
      "execution_count": null,
      "outputs": [
        {
          "output_type": "stream",
          "name": "stdout",
          "text": [
            "Coeficientes del Polinomio característico: [ 1. -7.  9. -3.]\n",
            "El polinomio característico es: \n",
            "\n",
            "   3     2\n",
            "1 x - 7 x + 9 x - 3\n",
            "      \n"
          ]
        }
      ]
    }
  ]
}